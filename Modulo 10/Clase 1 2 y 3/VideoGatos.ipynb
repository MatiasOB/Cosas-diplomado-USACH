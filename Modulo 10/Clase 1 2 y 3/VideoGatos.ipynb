{
 "cells": [
  {
   "cell_type": "code",
   "execution_count": 2,
   "id": "4e38755b",
   "metadata": {},
   "outputs": [],
   "source": [
    "import os\n",
    "import cv2 \n",
    "import time"
   ]
  },
  {
   "cell_type": "code",
   "execution_count": 3,
   "id": "7d2ac38c",
   "metadata": {},
   "outputs": [],
   "source": [
    "#TRABAJANDO EN DIRECTORIO \n",
    "#os.chdir(r'C:\\VIDEO')"
   ]
  },
  {
   "cell_type": "markdown",
   "id": "11d724b5",
   "metadata": {},
   "source": [
    "PASOS GENERALES:\n",
    "1- Conversión a escala de grises y eliminación de ruido.\n",
    "2- Operación de substracción entre el segundo plano y el primer plano.\n",
    "3- Aplicar un umbral a la imagen resultado de la resta.\n",
    "4- Detección de contornos."
   ]
  },
  {
   "cell_type": "code",
   "execution_count": 4,
   "id": "7b49dd01",
   "metadata": {},
   "outputs": [],
   "source": [
    "# Cargamos el vídeo\n",
    "#VideoCapture.read(). La función devuelve el cuadro de video. Si no se han tomado fotogramas, la imagen estará vacía.\n",
    "camara = cv2.VideoCapture(\"GATOS.mp4\")\n"
   ]
  },
  {
   "cell_type": "code",
   "execution_count": 5,
   "id": "d6d153c0",
   "metadata": {},
   "outputs": [],
   "source": [
    "#Vemos el video\n",
    "while (camara.isOpened()):\n",
    "    ret, imagen = camara.read()\n",
    "    if ret == True:\n",
    "        cv2.imshow('video', imagen)\n",
    "        if cv2.waitKey(30) == ord('s'):\n",
    "            break\n",
    "    else:\n",
    "        break"
   ]
  },
  {
   "cell_type": "code",
   "execution_count": 6,
   "id": "630e6a3a",
   "metadata": {},
   "outputs": [],
   "source": [
    "camara.release()\n",
    "cv2.destroyAllWindows()"
   ]
  },
  {
   "cell_type": "code",
   "execution_count": 11,
   "id": "c90b6063",
   "metadata": {},
   "outputs": [],
   "source": [
    "camara = cv2.VideoCapture(\"GATOS.mp4\")\n",
    "# Inicializamos el primer frame a vacío.\n",
    "# Nos servirá para obtener el fondo\n",
    "fondo = None\n",
    "\n",
    "# Recorremos todos los frames\n",
    "while True:\n",
    "    (ret, frame) = camara.read()\n",
    "    \n",
    "    #Si viene rotada, se repara en los grados necesarios\n",
    "    frame = cv2.rotate(frame, cv2.ROTATE_180)\n",
    "    #frame = cv2.rotate(frame, cv2.ROTATE_90_CLOCKWISE)\n",
    "    #frame = cv2.rotate(frame, cv2.ROTATE_90_COUNTERCLOCKWISE)\n",
    "\n",
    "\t# Si hemos llegado al final del vídeo salimos\n",
    "    if not ret:\n",
    "        break\n",
    "    \n",
    "\t# Convertimos a escala de grises\n",
    "    gris = cv2.cvtColor(frame, cv2.COLOR_BGR2GRAY)\n",
    "\n",
    "\t# Aplicamos suavizado para eliminar ruido\n",
    "    #https://docs.opencv.org/3.4/d4/d13/tutorial_py_filtering.html\n",
    "    gris = cv2.GaussianBlur(gris, (21, 21), 0)\n",
    "\n",
    "\t# Si todavía no hemos obtenido el fondo, lo obtenemos\n",
    "\t# Será el primer frame que obtengamos\n",
    "    if fondo is None:\n",
    "        fondo = gris\n",
    "        continue\n",
    "\n",
    "\t# Calculo de la diferencia entre el fondo y el frame actual\n",
    "    #absdiff calcula la diferencia absoluta entre los elementos de una imagen o un escalar\n",
    "    resta = cv2.absdiff(fondo, gris) #diferencia absoluta entre frames del video (matrices de imágenes)\n",
    "\n",
    "\t# Aplicamos un umbral\n",
    "    #https://docs.opencv.org/3.4/d7/d4d/tutorial_py_thresholding.html\n",
    "    #Si el valor de píxel es menor que el umbral, se establece en 0; de lo contrario, se establece en un valor máximo.\n",
    "    umbral = cv2.threshold(resta, 25, 255, cv2.THRESH_BINARY)[1] #umbrales imagen SIEMPRE en escala de grises\n",
    "\n",
    "    # Dilatamos el umbral para tapar agujeros\n",
    "    #https://docs.opencv.org/3.4/d9/d61/tutorial_py_morphological_ops.html\n",
    "    #Las transformaciones morfológicas son algunas operaciones simples basadas en la forma de la imagen.\n",
    "    #Normalmente se realiza sobre imágenes binarias. Necesita dos entradas, una es nuestra imagen original, \n",
    "    #la segunda se llama elemento estructurante o núcleo que decide la naturaleza de la operación. \n",
    "    #Dos operadores morfológicos básicos son la erosión y la dilatación.\n",
    "   \n",
    "    #Dilatación: Aquí aumenta la región blanca en la imagen o aumenta el tamaño del objeto en primer plano. \n",
    "    umbral = cv2.dilate(umbral, None, iterations=2)\n",
    "\n",
    "\t# Copiamos el umbral para detectar los contornos\n",
    "    contornosimg = umbral.copy()\n",
    "\n",
    "\t# Buscamos contorno en la imagen\n",
    "    #https://docs.opencv.org/3.4/d4/d73/tutorial_py_contours_begin.html\n",
    "    #CHAIN_APPROX_SIMPLE Elimina todos los puntos redundantes y comprime el contorno, ahorrando así memoria.\n",
    "    contornos, hierarchy = cv2.findContours(contornosimg,cv2.RETR_TREE,cv2.CHAIN_APPROX_SIMPLE)\n",
    "\n",
    "\t# Recorremos todos los contornos encontrados\n",
    "    for c in contornos:\n",
    "        # Eliminamos los contornos más pequeños\n",
    "        if cv2.contourArea(c) < 4000:\n",
    "            continue\n",
    "\n",
    "\t\t# Obtenemos los límites del contorno, el rectángulo mayor que engloba al contorno\n",
    "        #boundingRect es una función que se utiliza para crear un rectángulo aproximado junto con la imagen. \n",
    "        #El uso principal de esta función es resaltar el área de interés después de obtener la forma \n",
    "        #exterior de la imagen. Con las marcas adecuadas, los usuarios pueden resaltar fácilmente el \n",
    "        #aspecto deseado en una imagen. Por ejemplo, en el reconocimiento de rostros, \n",
    "        #después de reconocer el rostro, las imágenes se vuelven a dibujar utilizando un límite \n",
    "        #que cubre los rostros de las personas reconocidas en la foto\n",
    "        (x, y, w, h) = cv2.boundingRect(c) #https://www.pythonpool.com/cv2-boundingrect/\n",
    "\t\t\n",
    "        # Dibujamos el rectángulo del contorno\n",
    "        #cv2.rectangle(image, start_point, end_point, color, thickness)\n",
    "        #https://www.geeksforgeeks.org/python-opencv-cv2-rectangle-method/\n",
    "        cv2.rectangle(frame, (x, y), (x + w, y + h), (0, 255, 0), 2)\n",
    "\n",
    "\t# Mostramos las imágenes de la cámara, el umbral y la resta\n",
    "    cv2.imshow(\"Camara\", frame)\n",
    "    cv2.imshow(\"Umbral\", umbral)\n",
    "    cv2.imshow(\"Resta\", resta)\n",
    "    cv2.imshow(\"Contorno\", contornosimg)\n",
    "\n",
    "\t# Capturamos una tecla para salir\n",
    "    key = cv2.waitKey(1) & 0xFF\n",
    "\n",
    "\t# Tiempo de espera para que se vea bien\n",
    "    time.sleep(0.05)"
   ]
  },
  {
   "cell_type": "code",
   "execution_count": 12,
   "id": "7e0f205c",
   "metadata": {},
   "outputs": [],
   "source": [
    "# Liberamos la cámara y cerramos todas las ventanas\n",
    "camara.release()\n",
    "cv2.destroyAllWindows()"
   ]
  },
  {
   "cell_type": "code",
   "execution_count": null,
   "id": "8f7750c3",
   "metadata": {},
   "outputs": [],
   "source": []
  }
 ],
 "metadata": {
  "hide_input": false,
  "kernelspec": {
   "display_name": "Python 3 (ipykernel)",
   "language": "python",
   "name": "python3"
  },
  "language_info": {
   "codemirror_mode": {
    "name": "ipython",
    "version": 3
   },
   "file_extension": ".py",
   "mimetype": "text/x-python",
   "name": "python",
   "nbconvert_exporter": "python",
   "pygments_lexer": "ipython3",
   "version": "3.9.13"
  },
  "toc": {
   "base_numbering": 1,
   "nav_menu": {},
   "number_sections": true,
   "sideBar": true,
   "skip_h1_title": false,
   "title_cell": "Table of Contents",
   "title_sidebar": "Contents",
   "toc_cell": false,
   "toc_position": {},
   "toc_section_display": true,
   "toc_window_display": false
  },
  "varInspector": {
   "cols": {
    "lenName": 16,
    "lenType": 16,
    "lenVar": 40
   },
   "kernels_config": {
    "python": {
     "delete_cmd_postfix": "",
     "delete_cmd_prefix": "del ",
     "library": "var_list.py",
     "varRefreshCmd": "print(var_dic_list())"
    },
    "r": {
     "delete_cmd_postfix": ") ",
     "delete_cmd_prefix": "rm(",
     "library": "var_list.r",
     "varRefreshCmd": "cat(var_dic_list()) "
    }
   },
   "types_to_exclude": [
    "module",
    "function",
    "builtin_function_or_method",
    "instance",
    "_Feature"
   ],
   "window_display": false
  }
 },
 "nbformat": 4,
 "nbformat_minor": 5
}
