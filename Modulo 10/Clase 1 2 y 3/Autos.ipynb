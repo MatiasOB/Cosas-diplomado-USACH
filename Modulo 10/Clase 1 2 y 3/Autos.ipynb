{
 "cells": [
  {
   "cell_type": "code",
   "execution_count": 16,
   "id": "95848c9d",
   "metadata": {},
   "outputs": [],
   "source": [
    "#LIBRERÍAS\n",
    "\n",
    "import os\n",
    "import numpy as np\n",
    "import cv2 \n",
    "import time"
   ]
  },
  {
   "cell_type": "code",
   "execution_count": 17,
   "id": "fad3c928",
   "metadata": {},
   "outputs": [],
   "source": [
    "#TRABAJANDO EN DIRECTORIO \n",
    "#os.chdir(r'C:\\VIDEO')\n"
   ]
  },
  {
   "cell_type": "code",
   "execution_count": 35,
   "id": "06b558af",
   "metadata": {},
   "outputs": [],
   "source": [
    "#INICIALIZACIÓN DE VARIABLES\n",
    "min_contour_width = 40  \n",
    "min_contour_height = 40  \n",
    "offset = 8 \n",
    "line_height = 550  \n",
    "matches = []\n",
    "cars = 0"
   ]
  },
  {
   "cell_type": "code",
   "execution_count": 36,
   "id": "46fb73b3",
   "metadata": {},
   "outputs": [],
   "source": [
    "#CENTRO DEL OBJETO\n",
    "def centro_id(x, y, w, h):\n",
    "    x1 = int(w / 2)\n",
    "    y1 = int(h / 2)\n",
    "    cx = x + x1\n",
    "    cy = y + y1\n",
    "    return cx, cy\n",
    "  "
   ]
  },
  {
   "cell_type": "code",
   "execution_count": 37,
   "id": "1d242025",
   "metadata": {},
   "outputs": [],
   "source": [
    "#LECTURA DEL VIDEO    \n",
    "cap = cv2.VideoCapture('trafico.mp4')\n",
    "ret, frame1 = cap.read()\n",
    " \n",
    "#VideoCapture.read(). La función devuelve el cuadro de video. Si no se han tomado fotogramas, la imagen estará vacía.\n",
    "if cap.isOpened():\n",
    "    ret, frame1 = cap.read()\n",
    "else:\n",
    "    ret = False\n",
    "   \n",
    "ret, frame1 = cap.read()\n",
    "ret, frame2 = cap.read()\n"
   ]
  },
  {
   "cell_type": "code",
   "execution_count": 38,
   "id": "f4e41ee4",
   "metadata": {},
   "outputs": [
    {
     "data": {
      "text/plain": [
       "-1"
      ]
     },
     "execution_count": 38,
     "metadata": {},
     "output_type": "execute_result"
    }
   ],
   "source": [
    "cv2.imshow(\"Frame del video\", frame1)\n",
    "cv2.waitKey(0)"
   ]
  },
  {
   "cell_type": "code",
   "execution_count": 39,
   "id": "6bca5db4",
   "metadata": {},
   "outputs": [
    {
     "ename": "KeyboardInterrupt",
     "evalue": "",
     "output_type": "error",
     "traceback": [
      "\u001b[1;31m---------------------------------------------------------------------------\u001b[0m",
      "\u001b[1;31mKeyboardInterrupt\u001b[0m                         Traceback (most recent call last)",
      "Input \u001b[1;32mIn [39]\u001b[0m, in \u001b[0;36m<cell line: 1>\u001b[1;34m()\u001b[0m\n\u001b[0;32m     76\u001b[0m frame1 \u001b[38;5;241m=\u001b[39m frame2\n\u001b[0;32m     77\u001b[0m ret, frame2 \u001b[38;5;241m=\u001b[39m cap\u001b[38;5;241m.\u001b[39mread()\n\u001b[1;32m---> 79\u001b[0m \u001b[43mtime\u001b[49m\u001b[38;5;241;43m.\u001b[39;49m\u001b[43msleep\u001b[49m\u001b[43m(\u001b[49m\u001b[38;5;241;43m0.050\u001b[39;49m\u001b[43m)\u001b[49m\n",
      "\u001b[1;31mKeyboardInterrupt\u001b[0m: "
     ]
    }
   ],
   "source": [
    "while ret:\n",
    "    \n",
    "    #absdiff calcula la diferencia absoluta entre los elementos de una imagen o un escalar\n",
    "    d = cv2.absdiff(frame1, frame2) #diferencia absoluta entre frames del video (matrices de imágenes)\n",
    "    grey = cv2.cvtColor(d, cv2.COLOR_BGR2GRAY) #traspaso a escala de grises\n",
    "    \n",
    "    #https://docs.opencv.org/3.4/d4/d13/tutorial_py_filtering.html\n",
    "    blur = cv2.GaussianBlur(grey, (5, 5), 0) #filtro de suavizado\n",
    "     \n",
    "    #https://docs.opencv.org/3.4/d7/d4d/tutorial_py_thresholding.html\n",
    "    #Si el valor de píxel es menor que el umbral, se establece en 0; de lo contrario, se establece en un valor máximo.\n",
    "    ret, th = cv2.threshold(blur, 20, 255, cv2.THRESH_BINARY) #umbrales imagen SIEMPRE en escala de grises\n",
    "    \n",
    "   #https://docs.opencv.org/3.4/d9/d61/tutorial_py_morphological_ops.html\n",
    "   #Las transformaciones morfológicas son algunas operaciones simples basadas en la forma de la imagen.\n",
    "   #Normalmente se realiza sobre imágenes binarias. Necesita dos entradas, una es nuestra imagen original, \n",
    "   #la segunda se llama elemento estructurante o núcleo que decide la naturaleza de la operación. \n",
    "   #Dos operadores morfológicos básicos son la erosión y la dilatación.\n",
    "   \n",
    "   #Dilatación: Aquí, un elemento de píxel es \"1\" si al menos un píxel en el kernel es \"1\". \n",
    "   #Por lo tanto, aumenta la región blanca en la imagen o aumenta el tamaño del objeto en primer plano. \n",
    "    dilated = cv2.dilate(th, np.ones((3, 3))) #dilatación de los bordes\n",
    "    kernel = cv2.getStructuringElement(cv2.MORPH_ELLIPSE, (2, 2)) #kernel con forma de elipse\n",
    "    \n",
    "   #MorphologyEx es la dilatación seguida de la erosión. Es útil para cerrar pequeños agujeros dentro de los objetos\n",
    "   #en primer plano o pequeños puntos negros en el objeto.\n",
    "    closing = cv2.morphologyEx(dilated, cv2.MORPH_CLOSE, kernel)\n",
    "    \n",
    "   #https://docs.opencv.org/3.4/d4/d73/tutorial_py_contours_begin.html\n",
    "   #CHAIN_APPROX_SIMPLE Elimina todos los puntos redundantes y comprime el contorno, ahorrando así memoria.\n",
    "    contours, h = cv2.findContours(closing, cv2.RETR_TREE, cv2.CHAIN_APPROX_SIMPLE)\n",
    "    \n",
    "    for(i, c) in enumerate(contours):\n",
    "         #boundingRect es una función que se utiliza para crear un rectángulo aproximado junto con la imagen. \n",
    "       #El uso principal de esta función es resaltar el área de interés después de obtener la forma \n",
    "       #exterior de la imagen. Con las marcas adecuadas, los usuarios pueden resaltar fácilmente el \n",
    "       #aspecto deseado en una imagen. Por ejemplo, en el reconocimiento de rostros, \n",
    "       #después de reconocer el rostro, las imágenes se vuelven a dibujar utilizando un límite \n",
    "       #que cubre los rostros de las personas reconocidas en la foto\n",
    "        (x, y, w, h) = cv2.boundingRect(c) #https://www.pythonpool.com/cv2-boundingrect/\n",
    "       \n",
    "        contour_valid = (w >= min_contour_width) and (h >= min_contour_height)\n",
    " \n",
    "        if not contour_valid:\n",
    "            continue\n",
    "       \n",
    "       #cv2.rectangle(image, start_point, end_point, color, thickness)\n",
    "       #https://www.geeksforgeeks.org/python-opencv-cv2-rectangle-method/\n",
    "        cv2.rectangle(frame1, (x-10, y-10), (x+w+10, y+h+10), (255, 0, 0), 2)\n",
    " \n",
    "       #cv2.line(image, start_point, end_point, color, thickness)\n",
    "       #https://www.geeksforgeeks.org/python-opencv-cv2-line-method/\n",
    "        cv2.line(frame1, (0, line_height), (2000, line_height), (0, 255, 0), 2)\n",
    "       \n",
    "        centrolid = centro_id(x, y, w, h)\n",
    "        matches.append(centrolid)\n",
    "       \n",
    "       #cv2.circle(image, center_coordinates, radius, color, thickness)\n",
    "       #https://www.geeksforgeeks.org/python-opencv-cv2-circle-method/\n",
    "        cv2.circle(frame1, centrolid, 5, (0, 255, 0), -1)\n",
    "        cx, cy = centro_id(x, y, w, h)\n",
    "       \n",
    "        for (x, y) in matches:\n",
    "            if y < (line_height+offset) and y > (line_height-offset):\n",
    "                cars = cars+1\n",
    "                matches.remove((x, y))\n",
    " \n",
    "   #https://www.geeksforgeeks.org/python-opencv-cv2-puttext-method/ \n",
    "    cv2.putText(frame1, \"Total de Autos Detectados: \" + str(cars), (10, 90), cv2.FONT_HERSHEY_SIMPLEX, 1, (0, 170, 0), 2)\n",
    " \n",
    "    cv2.imshow(\"Detectando vehiculos\", frame1)\n",
    "    if cv2.waitKey(1) == 55:\n",
    "        break\n",
    "   \n",
    "    \n",
    "    frame1 = frame2\n",
    "    ret, frame2 = cap.read()\n",
    "    \n",
    "    time.sleep(0.050)\n"
   ]
  },
  {
   "cell_type": "code",
   "execution_count": 40,
   "id": "303d4c18",
   "metadata": {},
   "outputs": [],
   "source": [
    "cap.release()\n",
    "cv2.destroyAllWindows()"
   ]
  },
  {
   "cell_type": "code",
   "execution_count": null,
   "id": "48592382",
   "metadata": {},
   "outputs": [],
   "source": []
  },
  {
   "cell_type": "code",
   "execution_count": null,
   "id": "c63b7fe9",
   "metadata": {},
   "outputs": [],
   "source": []
  }
 ],
 "metadata": {
  "hide_input": false,
  "kernelspec": {
   "display_name": "Python 3 (ipykernel)",
   "language": "python",
   "name": "python3"
  },
  "language_info": {
   "codemirror_mode": {
    "name": "ipython",
    "version": 3
   },
   "file_extension": ".py",
   "mimetype": "text/x-python",
   "name": "python",
   "nbconvert_exporter": "python",
   "pygments_lexer": "ipython3",
   "version": "3.9.13"
  },
  "toc": {
   "base_numbering": 1,
   "nav_menu": {},
   "number_sections": true,
   "sideBar": true,
   "skip_h1_title": false,
   "title_cell": "Table of Contents",
   "title_sidebar": "Contents",
   "toc_cell": false,
   "toc_position": {},
   "toc_section_display": true,
   "toc_window_display": false
  },
  "varInspector": {
   "cols": {
    "lenName": 16,
    "lenType": 16,
    "lenVar": 40
   },
   "kernels_config": {
    "python": {
     "delete_cmd_postfix": "",
     "delete_cmd_prefix": "del ",
     "library": "var_list.py",
     "varRefreshCmd": "print(var_dic_list())"
    },
    "r": {
     "delete_cmd_postfix": ") ",
     "delete_cmd_prefix": "rm(",
     "library": "var_list.r",
     "varRefreshCmd": "cat(var_dic_list()) "
    }
   },
   "types_to_exclude": [
    "module",
    "function",
    "builtin_function_or_method",
    "instance",
    "_Feature"
   ],
   "window_display": false
  }
 },
 "nbformat": 4,
 "nbformat_minor": 5
}
