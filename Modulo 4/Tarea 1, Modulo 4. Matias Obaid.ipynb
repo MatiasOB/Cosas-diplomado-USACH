{
 "cells": [
  {
   "cell_type": "markdown",
   "id": "4d4d7eb3",
   "metadata": {},
   "source": [
    "La tarea consiste en <font color=\"red\">2</font> partes:\n",
    "\n",
    "<font color=\"blue\">**Primera parte**</font><br>\n",
    "Utilizar la base de datos OnlineRetail.csv para responder lo siguiente:<br>\n",
    "- 1. Graficar la cantidad de ordenes (Invoice) por cada día de la semana. ¿Qué\n",
    "día se producen la mayor cantidad de ordenes y cuando la menor?\n",
    "- 2. ¿Cuales son los 5 países que más gastan en promedio? graficar y tabla\n",
    "- 3. Hay items que la empresa entrega de regalo, ¿Cuantos se regalaron?.\n",
    "indicar cantidad por mes.\n",
    "\n",
    "<font color=\"blue\">**Segunda parte consiste en:**</font><br>\n",
    "Utilizando SegmentationData.csv\n",
    "1. Obtener la solución de cluster jerárquico para k = 4 y con ella:\n",
    "-  Poner nombre a los 4 clusters\n",
    "- Realizar crosstab (con MBA y Choice)\n",
    "- Calcular el test de chi-cuadrado (pearson) para los crosstab\n",
    "(MBA y Choice) con el fin de responder si existe relación entre\n",
    "las variables. ( alfa = 0.05)"
   ]
  },
  {
   "cell_type": "code",
   "execution_count": 1,
   "id": "73a3fe37",
   "metadata": {},
   "outputs": [],
   "source": [
    "import pandas as pd\n",
    "import numpy as np\n",
    "import matplotlib.pyplot as plt\n",
    "import seaborn as sns\n",
    "import os"
   ]
  },
  {
   "cell_type": "code",
   "execution_count": 2,
   "id": "766b3d64",
   "metadata": {},
   "outputs": [
    {
     "data": {
      "text/plain": [
       "['.ipynb_checkpoints',\n",
       " 'arrestosUSA.csv',\n",
       " 'brandrating.csv',\n",
       " 'Clase 3 18-08-22 Cluster K media .ipynb',\n",
       " 'Clase 3 18_08-22 Cluster K-prototype.ipynb',\n",
       " 'Clase 4 PCA 23-08-22.ipynb',\n",
       " 'Clase 5 25-08-22 Reglas de Asociación.ipynb',\n",
       " 'class KPrototypes.pdf',\n",
       " 'Cluster jerarquicos.pdf',\n",
       " 'Cluster No jerarquicos.pdf',\n",
       " 'Clustering Large Data Sets with Categorical Values.pdf',\n",
       " 'CollegeUSA.csv',\n",
       " 'EDA Segmentacion.pdf',\n",
       " 'groceries.csv',\n",
       " 'Hands-On Exploratory Data Analysis with Python Perform EDA techniques to understand, summarize, and investigate your data by Suresh Kumar Mukhiya, Usman Ahmed (z-lib.org).pdf',\n",
       " 'OnlineRetail.csv',\n",
       " 'PCA vs FA.pdf',\n",
       " 'Reducción de dimensiones.pdf',\n",
       " 'Reglas de asociación.pdf',\n",
       " 'SegmentationData.csv',\n",
       " 'Tarea 1, Modulo 4. Matias Obaid.ipynb',\n",
       " 'Tarea 2 PCA.pdf',\n",
       " 'Tarea 2, Modulo 4, Matias Obaid.ipynb']"
      ]
     },
     "execution_count": 2,
     "metadata": {},
     "output_type": "execute_result"
    }
   ],
   "source": [
    "os.listdir()"
   ]
  },
  {
   "cell_type": "code",
   "execution_count": 3,
   "id": "f5f08509",
   "metadata": {},
   "outputs": [],
   "source": [
    "df = pd.read_csv(\"OnlineRetail.csv\", encoding=\"ISO-8859-1\")"
   ]
  },
  {
   "cell_type": "code",
   "execution_count": 4,
   "id": "0744c5eb",
   "metadata": {},
   "outputs": [
    {
     "data": {
      "text/html": [
       "<div>\n",
       "<style scoped>\n",
       "    .dataframe tbody tr th:only-of-type {\n",
       "        vertical-align: middle;\n",
       "    }\n",
       "\n",
       "    .dataframe tbody tr th {\n",
       "        vertical-align: top;\n",
       "    }\n",
       "\n",
       "    .dataframe thead th {\n",
       "        text-align: right;\n",
       "    }\n",
       "</style>\n",
       "<table border=\"1\" class=\"dataframe\">\n",
       "  <thead>\n",
       "    <tr style=\"text-align: right;\">\n",
       "      <th></th>\n",
       "      <th>InvoiceNo</th>\n",
       "      <th>StockCode</th>\n",
       "      <th>Description</th>\n",
       "      <th>Quantity</th>\n",
       "      <th>InvoiceDate</th>\n",
       "      <th>UnitPrice</th>\n",
       "      <th>CustomerID</th>\n",
       "      <th>Country</th>\n",
       "    </tr>\n",
       "  </thead>\n",
       "  <tbody>\n",
       "    <tr>\n",
       "      <th>0</th>\n",
       "      <td>536365</td>\n",
       "      <td>85123A</td>\n",
       "      <td>WHITE HANGING HEART T-LIGHT HOLDER</td>\n",
       "      <td>6</td>\n",
       "      <td>12/1/2010 8:26</td>\n",
       "      <td>2.55</td>\n",
       "      <td>17850.0</td>\n",
       "      <td>United Kingdom</td>\n",
       "    </tr>\n",
       "    <tr>\n",
       "      <th>1</th>\n",
       "      <td>536365</td>\n",
       "      <td>71053</td>\n",
       "      <td>WHITE METAL LANTERN</td>\n",
       "      <td>6</td>\n",
       "      <td>12/1/2010 8:26</td>\n",
       "      <td>3.39</td>\n",
       "      <td>17850.0</td>\n",
       "      <td>United Kingdom</td>\n",
       "    </tr>\n",
       "    <tr>\n",
       "      <th>2</th>\n",
       "      <td>536365</td>\n",
       "      <td>84406B</td>\n",
       "      <td>CREAM CUPID HEARTS COAT HANGER</td>\n",
       "      <td>8</td>\n",
       "      <td>12/1/2010 8:26</td>\n",
       "      <td>2.75</td>\n",
       "      <td>17850.0</td>\n",
       "      <td>United Kingdom</td>\n",
       "    </tr>\n",
       "    <tr>\n",
       "      <th>3</th>\n",
       "      <td>536365</td>\n",
       "      <td>84029G</td>\n",
       "      <td>KNITTED UNION FLAG HOT WATER BOTTLE</td>\n",
       "      <td>6</td>\n",
       "      <td>12/1/2010 8:26</td>\n",
       "      <td>3.39</td>\n",
       "      <td>17850.0</td>\n",
       "      <td>United Kingdom</td>\n",
       "    </tr>\n",
       "    <tr>\n",
       "      <th>4</th>\n",
       "      <td>536365</td>\n",
       "      <td>84029E</td>\n",
       "      <td>RED WOOLLY HOTTIE WHITE HEART.</td>\n",
       "      <td>6</td>\n",
       "      <td>12/1/2010 8:26</td>\n",
       "      <td>3.39</td>\n",
       "      <td>17850.0</td>\n",
       "      <td>United Kingdom</td>\n",
       "    </tr>\n",
       "  </tbody>\n",
       "</table>\n",
       "</div>"
      ],
      "text/plain": [
       "  InvoiceNo StockCode                          Description  Quantity  \\\n",
       "0    536365    85123A   WHITE HANGING HEART T-LIGHT HOLDER         6   \n",
       "1    536365     71053                  WHITE METAL LANTERN         6   \n",
       "2    536365    84406B       CREAM CUPID HEARTS COAT HANGER         8   \n",
       "3    536365    84029G  KNITTED UNION FLAG HOT WATER BOTTLE         6   \n",
       "4    536365    84029E       RED WOOLLY HOTTIE WHITE HEART.         6   \n",
       "\n",
       "      InvoiceDate  UnitPrice  CustomerID         Country  \n",
       "0  12/1/2010 8:26       2.55     17850.0  United Kingdom  \n",
       "1  12/1/2010 8:26       3.39     17850.0  United Kingdom  \n",
       "2  12/1/2010 8:26       2.75     17850.0  United Kingdom  \n",
       "3  12/1/2010 8:26       3.39     17850.0  United Kingdom  \n",
       "4  12/1/2010 8:26       3.39     17850.0  United Kingdom  "
      ]
     },
     "execution_count": 4,
     "metadata": {},
     "output_type": "execute_result"
    }
   ],
   "source": [
    "df.head()"
   ]
  },
  {
   "cell_type": "code",
   "execution_count": 5,
   "id": "1e066396",
   "metadata": {},
   "outputs": [
    {
     "name": "stdout",
     "output_type": "stream",
     "text": [
      "<class 'pandas.core.frame.DataFrame'>\n",
      "RangeIndex: 541909 entries, 0 to 541908\n",
      "Data columns (total 8 columns):\n",
      " #   Column       Non-Null Count   Dtype  \n",
      "---  ------       --------------   -----  \n",
      " 0   InvoiceNo    541909 non-null  object \n",
      " 1   StockCode    541909 non-null  object \n",
      " 2   Description  540455 non-null  object \n",
      " 3   Quantity     541909 non-null  int64  \n",
      " 4   InvoiceDate  541909 non-null  object \n",
      " 5   UnitPrice    541909 non-null  float64\n",
      " 6   CustomerID   406829 non-null  float64\n",
      " 7   Country      541909 non-null  object \n",
      "dtypes: float64(2), int64(1), object(5)\n",
      "memory usage: 33.1+ MB\n"
     ]
    }
   ],
   "source": [
    "df.info()"
   ]
  },
  {
   "cell_type": "code",
   "execution_count": 7,
   "id": "cb597b00",
   "metadata": {},
   "outputs": [
    {
     "data": {
      "text/plain": [
       "InvoiceNo           0\n",
       "StockCode           0\n",
       "Description      1454\n",
       "Quantity            0\n",
       "InvoiceDate         0\n",
       "UnitPrice           0\n",
       "CustomerID     135080\n",
       "Country             0\n",
       "dtype: int64"
      ]
     },
     "execution_count": 7,
     "metadata": {},
     "output_type": "execute_result"
    }
   ],
   "source": [
    "df.isnull().sum()"
   ]
  },
  {
   "cell_type": "code",
   "execution_count": 8,
   "id": "064f63cc",
   "metadata": {},
   "outputs": [
    {
     "data": {
      "text/html": [
       "<div>\n",
       "<style scoped>\n",
       "    .dataframe tbody tr th:only-of-type {\n",
       "        vertical-align: middle;\n",
       "    }\n",
       "\n",
       "    .dataframe tbody tr th {\n",
       "        vertical-align: top;\n",
       "    }\n",
       "\n",
       "    .dataframe thead th {\n",
       "        text-align: right;\n",
       "    }\n",
       "</style>\n",
       "<table border=\"1\" class=\"dataframe\">\n",
       "  <thead>\n",
       "    <tr style=\"text-align: right;\">\n",
       "      <th></th>\n",
       "      <th>Total_Missing</th>\n",
       "      <th>Missing_Percent</th>\n",
       "    </tr>\n",
       "  </thead>\n",
       "  <tbody>\n",
       "    <tr>\n",
       "      <th>CustomerID</th>\n",
       "      <td>135080</td>\n",
       "      <td>0.249267</td>\n",
       "    </tr>\n",
       "    <tr>\n",
       "      <th>Description</th>\n",
       "      <td>1454</td>\n",
       "      <td>0.002683</td>\n",
       "    </tr>\n",
       "    <tr>\n",
       "      <th>InvoiceNo</th>\n",
       "      <td>0</td>\n",
       "      <td>0.000000</td>\n",
       "    </tr>\n",
       "    <tr>\n",
       "      <th>StockCode</th>\n",
       "      <td>0</td>\n",
       "      <td>0.000000</td>\n",
       "    </tr>\n",
       "    <tr>\n",
       "      <th>Quantity</th>\n",
       "      <td>0</td>\n",
       "      <td>0.000000</td>\n",
       "    </tr>\n",
       "    <tr>\n",
       "      <th>InvoiceDate</th>\n",
       "      <td>0</td>\n",
       "      <td>0.000000</td>\n",
       "    </tr>\n",
       "    <tr>\n",
       "      <th>UnitPrice</th>\n",
       "      <td>0</td>\n",
       "      <td>0.000000</td>\n",
       "    </tr>\n",
       "    <tr>\n",
       "      <th>Country</th>\n",
       "      <td>0</td>\n",
       "      <td>0.000000</td>\n",
       "    </tr>\n",
       "  </tbody>\n",
       "</table>\n",
       "</div>"
      ],
      "text/plain": [
       "             Total_Missing  Missing_Percent\n",
       "CustomerID          135080         0.249267\n",
       "Description           1454         0.002683\n",
       "InvoiceNo                0         0.000000\n",
       "StockCode                0         0.000000\n",
       "Quantity                 0         0.000000\n",
       "InvoiceDate              0         0.000000\n",
       "UnitPrice                0         0.000000\n",
       "Country                  0         0.000000"
      ]
     },
     "execution_count": 8,
     "metadata": {},
     "output_type": "execute_result"
    }
   ],
   "source": [
    "total = df.isnull().sum().sort_values(ascending=False)\n",
    "percent = (df.isnull().sum()/df.isnull().count()).sort_values(ascending=False)\n",
    "missing_data = pd.concat([total, percent], axis=1, keys=['Total_Missing', 'Missing_Percent'])\n",
    "missing_data.head(20)"
   ]
  },
  {
   "cell_type": "code",
   "execution_count": 9,
   "id": "781ff7d7",
   "metadata": {},
   "outputs": [
    {
     "name": "stdout",
     "output_type": "stream",
     "text": [
      "<class 'pandas.core.frame.DataFrame'>\n",
      "RangeIndex: 541909 entries, 0 to 541908\n",
      "Data columns (total 8 columns):\n",
      " #   Column       Non-Null Count   Dtype  \n",
      "---  ------       --------------   -----  \n",
      " 0   InvoiceNo    541909 non-null  object \n",
      " 1   StockCode    541909 non-null  object \n",
      " 2   Description  540455 non-null  object \n",
      " 3   Quantity     541909 non-null  int64  \n",
      " 4   InvoiceDate  541909 non-null  object \n",
      " 5   UnitPrice    541909 non-null  float64\n",
      " 6   CustomerID   406829 non-null  float64\n",
      " 7   Country      541909 non-null  object \n",
      "dtypes: float64(2), int64(1), object(5)\n",
      "memory usage: 33.1+ MB\n"
     ]
    }
   ],
   "source": [
    "df.info()"
   ]
  },
  {
   "cell_type": "code",
   "execution_count": 10,
   "id": "c15dc4fb",
   "metadata": {},
   "outputs": [],
   "source": [
    "df[\"InvoiceDate\"] = pd.to_datetime(df[\"InvoiceDate\"])"
   ]
  },
  {
   "cell_type": "code",
   "execution_count": 11,
   "id": "2df0605f",
   "metadata": {},
   "outputs": [],
   "source": [
    "df.CustomerID= df.CustomerID.astype(\"str\")"
   ]
  },
  {
   "cell_type": "code",
   "execution_count": 12,
   "id": "0b9e563f",
   "metadata": {},
   "outputs": [],
   "source": [
    "df = df.dropna(axis=0)"
   ]
  },
  {
   "cell_type": "markdown",
   "id": "2b4c7cf0",
   "metadata": {},
   "source": [
    "# <font color=\"blue\" size=\"7\">PARTE 1</font>"
   ]
  },
  {
   "cell_type": "markdown",
   "id": "96a3f536",
   "metadata": {},
   "source": [
    "<font color=\"green\">**1. Graficar la cantidad de ordenes (Invoice) por cada día de la semana. ¿Qué día se producen la mayor cantidad de ordenes y cuando la menor?**</font>"
   ]
  },
  {
   "cell_type": "code",
   "execution_count": 13,
   "id": "cac77fbb",
   "metadata": {},
   "outputs": [],
   "source": [
    "sns.set_style(\"darkgrid\")"
   ]
  },
  {
   "cell_type": "code",
   "execution_count": 14,
   "id": "8f1db27a",
   "metadata": {},
   "outputs": [
    {
     "data": {
      "image/png": "[encoded data removed]",
      "text/plain": [
       "<Figure size 1000x600 with 1 Axes>"
      ]
     },
     "metadata": {
      "needs_background": "light"
     },
     "output_type": "display_data"
    }
   ],
   "source": [
    "datas = df.groupby(\"InvoiceNo\", as_index=False).first().set_index(\"InvoiceDate\").resample(\"D\").count()[\"InvoiceNo\"]\n",
    "\n",
    "plt.figure(figsize=(10,6),dpi=100)\n",
    "sns.barplot(x=datas.index.strftime('%A'),y=datas.values, estimator=np.sum, ci=None)\n",
    "plt.xticks(rotation=90);\n",
    "plt.title(\"Cantidad de total de facturas por dia de la semana\", fontsize=15)\n",
    "plt.xlabel(xlabel=\"DATE\", labelpad=10);"
   ]
  },
  {
   "cell_type": "code",
   "execution_count": 15,
   "id": "36433b8f",
   "metadata": {},
   "outputs": [
    {
     "data": {
      "image/png": "[encoded data removed]",
      "text/plain": [
       "<Figure size 1000x600 with 1 Axes>"
      ]
     },
     "metadata": {
      "needs_background": "light"
     },
     "output_type": "display_data"
    }
   ],
   "source": [
    "plt.figure(figsize=(10,6),dpi=100)\n",
    "sns.barplot(x=datas.index.strftime('%A'),y=datas.values, estimator=np.mean)\n",
    "plt.xticks(rotation=90);\n",
    "plt.title(\"Cantidad de promedio de facturas por dia de la semana\", fontsize=15)\n",
    "plt.xlabel(xlabel=\"DATE\", labelpad=10);"
   ]
  },
  {
   "cell_type": "code",
   "execution_count": 16,
   "id": "d74423e8",
   "metadata": {},
   "outputs": [],
   "source": [
    "datas = pd.DataFrame(datas)\n",
    "datas[\"weekday\"] = datas.index.day_name()"
   ]
  },
  {
   "cell_type": "code",
   "execution_count": 17,
   "id": "a27431b9",
   "metadata": {},
   "outputs": [
    {
     "data": {
      "text/html": [
       "<div>\n",
       "<style scoped>\n",
       "    .dataframe tbody tr th:only-of-type {\n",
       "        vertical-align: middle;\n",
       "    }\n",
       "\n",
       "    .dataframe tbody tr th {\n",
       "        vertical-align: top;\n",
       "    }\n",
       "\n",
       "    .dataframe thead th {\n",
       "        text-align: right;\n",
       "    }\n",
       "</style>\n",
       "<table border=\"1\" class=\"dataframe\">\n",
       "  <thead>\n",
       "    <tr style=\"text-align: right;\">\n",
       "      <th></th>\n",
       "      <th>InvoiceNo</th>\n",
       "    </tr>\n",
       "    <tr>\n",
       "      <th>weekday</th>\n",
       "      <th></th>\n",
       "    </tr>\n",
       "  </thead>\n",
       "  <tbody>\n",
       "    <tr>\n",
       "      <th>Thursday</th>\n",
       "      <td>5353</td>\n",
       "    </tr>\n",
       "    <tr>\n",
       "      <th>Wednesday</th>\n",
       "      <td>4496</td>\n",
       "    </tr>\n",
       "    <tr>\n",
       "      <th>Tuesday</th>\n",
       "      <td>4430</td>\n",
       "    </tr>\n",
       "    <tr>\n",
       "      <th>Monday</th>\n",
       "      <td>3960</td>\n",
       "    </tr>\n",
       "    <tr>\n",
       "      <th>Friday</th>\n",
       "      <td>3826</td>\n",
       "    </tr>\n",
       "    <tr>\n",
       "      <th>Sunday</th>\n",
       "      <td>2381</td>\n",
       "    </tr>\n",
       "    <tr>\n",
       "      <th>Saturday</th>\n",
       "      <td>0</td>\n",
       "    </tr>\n",
       "  </tbody>\n",
       "</table>\n",
       "</div>"
      ],
      "text/plain": [
       "           InvoiceNo\n",
       "weekday             \n",
       "Thursday        5353\n",
       "Wednesday       4496\n",
       "Tuesday         4430\n",
       "Monday          3960\n",
       "Friday          3826\n",
       "Sunday          2381\n",
       "Saturday           0"
      ]
     },
     "execution_count": 17,
     "metadata": {},
     "output_type": "execute_result"
    }
   ],
   "source": [
    "# Total de cantidad de facturas por dia de la semana en el dataset.\n",
    "datas.groupby(\"weekday\").sum().sort_values(by=\"InvoiceNo\",ascending=False)"
   ]
  },
  {
   "cell_type": "markdown",
   "id": "c3becc21",
   "metadata": {},
   "source": [
    "**El dia con la Mayor Cantidad de ordenes es el \"Jueves\" (Thursday), el dia con la menor cantidad de ordenes es el Sabado (Saturday), Aparentemente esta cerrado ese dia.**"
   ]
  },
  {
   "cell_type": "markdown",
   "id": "43aff976",
   "metadata": {},
   "source": [
    "<font color=\"green\">**2. ¿Cuales son los 5 países que más gastan en promedio? graficar y tabla**</font>"
   ]
  },
  {
   "cell_type": "code",
   "execution_count": 18,
   "id": "07f6fbde",
   "metadata": {},
   "outputs": [],
   "source": [
    "df[\"Amount_spent\"] = df[\"UnitPrice\"] * df[\"Quantity\"]"
   ]
  },
  {
   "cell_type": "markdown",
   "id": "b957643d",
   "metadata": {},
   "source": [
    "**Paises que mas gastan en promedio <font color=\"red\"> POR FACTURA (InvoiceNo unico)**</font>"
   ]
  },
  {
   "cell_type": "code",
   "execution_count": 19,
   "id": "9944ec1c",
   "metadata": {},
   "outputs": [
    {
     "data": {
      "text/html": [
       "<div>\n",
       "<style scoped>\n",
       "    .dataframe tbody tr th:only-of-type {\n",
       "        vertical-align: middle;\n",
       "    }\n",
       "\n",
       "    .dataframe tbody tr th {\n",
       "        vertical-align: top;\n",
       "    }\n",
       "\n",
       "    .dataframe thead th {\n",
       "        text-align: right;\n",
       "    }\n",
       "</style>\n",
       "<table border=\"1\" class=\"dataframe\">\n",
       "  <thead>\n",
       "    <tr style=\"text-align: right;\">\n",
       "      <th></th>\n",
       "      <th>Amount_spent</th>\n",
       "    </tr>\n",
       "    <tr>\n",
       "      <th>Country</th>\n",
       "      <th></th>\n",
       "    </tr>\n",
       "  </thead>\n",
       "  <tbody>\n",
       "    <tr>\n",
       "      <th>Japan</th>\n",
       "      <td>312.60</td>\n",
       "    </tr>\n",
       "    <tr>\n",
       "      <th>Canada</th>\n",
       "      <td>190.99</td>\n",
       "    </tr>\n",
       "    <tr>\n",
       "      <th>Netherlands</th>\n",
       "      <td>175.29</td>\n",
       "    </tr>\n",
       "    <tr>\n",
       "      <th>Australia</th>\n",
       "      <td>84.68</td>\n",
       "    </tr>\n",
       "    <tr>\n",
       "      <th>Finland</th>\n",
       "      <td>55.90</td>\n",
       "    </tr>\n",
       "  </tbody>\n",
       "</table>\n",
       "</div>"
      ],
      "text/plain": [
       "             Amount_spent\n",
       "Country                  \n",
       "Japan              312.60\n",
       "Canada             190.99\n",
       "Netherlands        175.29\n",
       "Australia           84.68\n",
       "Finland             55.90"
      ]
     },
     "execution_count": 19,
     "metadata": {},
     "output_type": "execute_result"
    }
   ],
   "source": [
    "fac = pd.DataFrame(df.groupby([\"InvoiceNo\",\"Country\"]).mean()[\"Amount_spent\"]\n",
    "             .groupby(\"Country\").mean().sort_values(ascending=False)).round(2).head(5)\n",
    "\n",
    "fac"
   ]
  },
  {
   "cell_type": "code",
   "execution_count": 20,
   "id": "2f92d1cf",
   "metadata": {},
   "outputs": [
    {
     "data": {
      "image/png": "[encoded data removed]",
      "text/plain": [
       "<Figure size 750x450 with 1 Axes>"
      ]
     },
     "metadata": {
      "needs_background": "light"
     },
     "output_type": "display_data"
    }
   ],
   "source": [
    "plt.figure(figsize=(10,6),dpi=75)\n",
    "sns.barplot(x=fac.Amount_spent,y=fac.index, orient=\"h\", estimator=np.mean)\n",
    "plt.title(\"Paises que mas gastan en promedio por factura\", fontsize=25)\n",
    "plt.xticks(size=15)\n",
    "plt.yticks(size=15)\n",
    "plt.xlabel(xlabel=\"Amount Spent\", labelpad=10, size=20)\n",
    "plt.ylabel(ylabel=\"Country\", labelpad=10, size=20);"
   ]
  },
  {
   "cell_type": "markdown",
   "id": "6d404c7a",
   "metadata": {},
   "source": [
    "**Paises que mas gastan en promedio <font color=\"red\"> POR ITEMS** (rows/filas)</font>"
   ]
  },
  {
   "cell_type": "code",
   "execution_count": 21,
   "id": "7bb4dd78",
   "metadata": {},
   "outputs": [
    {
     "data": {
      "text/html": [
       "<div>\n",
       "<style scoped>\n",
       "    .dataframe tbody tr th:only-of-type {\n",
       "        vertical-align: middle;\n",
       "    }\n",
       "\n",
       "    .dataframe tbody tr th {\n",
       "        vertical-align: top;\n",
       "    }\n",
       "\n",
       "    .dataframe thead th {\n",
       "        text-align: right;\n",
       "    }\n",
       "</style>\n",
       "<table border=\"1\" class=\"dataframe\">\n",
       "  <thead>\n",
       "    <tr style=\"text-align: right;\">\n",
       "      <th></th>\n",
       "      <th>Amount_spent</th>\n",
       "    </tr>\n",
       "    <tr>\n",
       "      <th>Country</th>\n",
       "      <th></th>\n",
       "    </tr>\n",
       "  </thead>\n",
       "  <tbody>\n",
       "    <tr>\n",
       "      <th>Netherlands</th>\n",
       "      <td>120.06</td>\n",
       "    </tr>\n",
       "    <tr>\n",
       "      <th>Australia</th>\n",
       "      <td>108.88</td>\n",
       "    </tr>\n",
       "    <tr>\n",
       "      <th>Japan</th>\n",
       "      <td>98.72</td>\n",
       "    </tr>\n",
       "    <tr>\n",
       "      <th>Sweden</th>\n",
       "      <td>79.21</td>\n",
       "    </tr>\n",
       "    <tr>\n",
       "      <th>Denmark</th>\n",
       "      <td>48.25</td>\n",
       "    </tr>\n",
       "  </tbody>\n",
       "</table>\n",
       "</div>"
      ],
      "text/plain": [
       "             Amount_spent\n",
       "Country                  \n",
       "Netherlands        120.06\n",
       "Australia          108.88\n",
       "Japan               98.72\n",
       "Sweden              79.21\n",
       "Denmark             48.25"
      ]
     },
     "execution_count": 21,
     "metadata": {},
     "output_type": "execute_result"
    }
   ],
   "source": [
    "prod = pd.DataFrame(df.groupby(\"Country\").mean()[\"Amount_spent\"].sort_values(ascending=False)).round(2).head(5)\n",
    "prod"
   ]
  },
  {
   "cell_type": "code",
   "execution_count": 22,
   "id": "9a116523",
   "metadata": {},
   "outputs": [
    {
     "data": {
      "image/png": "[encoded data removed]",
      "text/plain": [
       "<Figure size 750x450 with 1 Axes>"
      ]
     },
     "metadata": {
      "needs_background": "light"
     },
     "output_type": "display_data"
    }
   ],
   "source": [
    "plt.figure(figsize=(10,6),dpi=75)\n",
    "sns.barplot(x=prod.Amount_spent,y=prod.index, orient=\"h\", estimator=np.mean)\n",
    "plt.title(\"Paises que mas gastan en promedio por items\", fontsize=25)\n",
    "plt.xticks(size=15)\n",
    "plt.yticks(size=15)\n",
    "plt.xlabel(xlabel=\"Amount Spent\", labelpad=10, size=20)\n",
    "plt.ylabel(ylabel=\"Country\", labelpad=10, size=20);"
   ]
  },
  {
   "cell_type": "markdown",
   "id": "b53b5689",
   "metadata": {},
   "source": [
    "<font color=\"green\">**3. Hay items que la empresa entrega de regalo, ¿Cuantos se regalaron?.\n",
    "indicar cantidad por mes.**</font>\n"
   ]
  },
  {
   "cell_type": "markdown",
   "id": "368597a9",
   "metadata": {},
   "source": [
    "Asumire que \"regalos\" se refieren a productos que tienen \"UnitPrice\" 0 y \"Quantity\" >=1."
   ]
  },
  {
   "cell_type": "code",
   "execution_count": 23,
   "id": "0c8230b4",
   "metadata": {},
   "outputs": [],
   "source": [
    "gifts = df[(df[\"UnitPrice\"]==0) & (df[\"Quantity\"]>=1)].groupby(\"InvoiceDate\").sum()"
   ]
  },
  {
   "cell_type": "code",
   "execution_count": 24,
   "id": "571ad485",
   "metadata": {},
   "outputs": [
    {
     "data": {
      "image/png": "[encoded data removed]",
      "text/plain": [
       "<Figure size 1000x600 with 1 Axes>"
      ]
     },
     "metadata": {
      "needs_background": "light"
     },
     "output_type": "display_data"
    }
   ],
   "source": [
    "plt.figure(figsize=(10,6),dpi=100)\n",
    "sns.barplot(x=gifts.index.strftime('%B-%Y'),y=gifts[\"Quantity\"], ci=None, estimator=np.sum)\n",
    "plt.xticks(rotation=90);\n",
    "plt.title(\"Cantidad de regalos por mes\", fontsize=15)\n",
    "plt.xlabel(xlabel=\"DATE\", labelpad=10);"
   ]
  },
  {
   "cell_type": "code",
   "execution_count": 25,
   "id": "f9f45741",
   "metadata": {},
   "outputs": [
    {
     "data": {
      "text/html": [
       "<div>\n",
       "<style scoped>\n",
       "    .dataframe tbody tr th:only-of-type {\n",
       "        vertical-align: middle;\n",
       "    }\n",
       "\n",
       "    .dataframe tbody tr th {\n",
       "        vertical-align: top;\n",
       "    }\n",
       "\n",
       "    .dataframe thead th {\n",
       "        text-align: right;\n",
       "    }\n",
       "</style>\n",
       "<table border=\"1\" class=\"dataframe\">\n",
       "  <thead>\n",
       "    <tr style=\"text-align: right;\">\n",
       "      <th></th>\n",
       "      <th>Quantity</th>\n",
       "      <th>Mes</th>\n",
       "    </tr>\n",
       "    <tr>\n",
       "      <th>InvoiceDate</th>\n",
       "      <th></th>\n",
       "      <th></th>\n",
       "    </tr>\n",
       "  </thead>\n",
       "  <tbody>\n",
       "    <tr>\n",
       "      <th>2010-12-31</th>\n",
       "      <td>1192</td>\n",
       "      <td>December</td>\n",
       "    </tr>\n",
       "    <tr>\n",
       "      <th>2011-01-31</th>\n",
       "      <td>267</td>\n",
       "      <td>January</td>\n",
       "    </tr>\n",
       "    <tr>\n",
       "      <th>2011-02-28</th>\n",
       "      <td>107</td>\n",
       "      <td>February</td>\n",
       "    </tr>\n",
       "    <tr>\n",
       "      <th>2011-03-31</th>\n",
       "      <td>3559</td>\n",
       "      <td>March</td>\n",
       "    </tr>\n",
       "    <tr>\n",
       "      <th>2011-04-30</th>\n",
       "      <td>1465</td>\n",
       "      <td>April</td>\n",
       "    </tr>\n",
       "    <tr>\n",
       "      <th>2011-05-31</th>\n",
       "      <td>2100</td>\n",
       "      <td>May</td>\n",
       "    </tr>\n",
       "    <tr>\n",
       "      <th>2011-06-30</th>\n",
       "      <td>4313</td>\n",
       "      <td>June</td>\n",
       "    </tr>\n",
       "    <tr>\n",
       "      <th>2011-07-31</th>\n",
       "      <td>4246</td>\n",
       "      <td>July</td>\n",
       "    </tr>\n",
       "    <tr>\n",
       "      <th>2011-08-31</th>\n",
       "      <td>1308</td>\n",
       "      <td>August</td>\n",
       "    </tr>\n",
       "    <tr>\n",
       "      <th>2011-09-30</th>\n",
       "      <td>1826</td>\n",
       "      <td>September</td>\n",
       "    </tr>\n",
       "    <tr>\n",
       "      <th>2011-10-31</th>\n",
       "      <td>3516</td>\n",
       "      <td>October</td>\n",
       "    </tr>\n",
       "    <tr>\n",
       "      <th>2011-11-30</th>\n",
       "      <td>15467</td>\n",
       "      <td>November</td>\n",
       "    </tr>\n",
       "    <tr>\n",
       "      <th>2011-12-31</th>\n",
       "      <td>690</td>\n",
       "      <td>December</td>\n",
       "    </tr>\n",
       "  </tbody>\n",
       "</table>\n",
       "</div>"
      ],
      "text/plain": [
       "             Quantity        Mes\n",
       "InvoiceDate                     \n",
       "2010-12-31       1192   December\n",
       "2011-01-31        267    January\n",
       "2011-02-28        107   February\n",
       "2011-03-31       3559      March\n",
       "2011-04-30       1465      April\n",
       "2011-05-31       2100        May\n",
       "2011-06-30       4313       June\n",
       "2011-07-31       4246       July\n",
       "2011-08-31       1308     August\n",
       "2011-09-30       1826  September\n",
       "2011-10-31       3516    October\n",
       "2011-11-30      15467   November\n",
       "2011-12-31        690   December"
      ]
     },
     "execution_count": 25,
     "metadata": {},
     "output_type": "execute_result"
    }
   ],
   "source": [
    "gifts = gifts.resample(\"M\").sum()\n",
    "gifts[\"Mes\"] = gifts.index.month_name()\n",
    "gifts[[\"Quantity\",\"Mes\"]]"
   ]
  },
  {
   "cell_type": "markdown",
   "id": "b583db9f",
   "metadata": {},
   "source": [
    "# <font color=\"blue\" size=\"7\">PARTE 2</font>"
   ]
  },
  {
   "cell_type": "markdown",
   "id": "b65f439a",
   "metadata": {},
   "source": [
    "1. Obtener la solución de cluster jerárquico para k = 4 y con ella:\n",
    "-  Poner nombre a los 4 clusters\n",
    "- Realizar crosstab (con MBA y Choice)\n",
    "- Calcular el test de chi-cuadrado (pearson) para los crosstab\n",
    "(MBA y Choice) con el fin de responder si existe relación entre\n",
    "las variables. ( alfa = 0.05)"
   ]
  },
  {
   "cell_type": "code",
   "execution_count": 26,
   "id": "d5e10be9",
   "metadata": {},
   "outputs": [],
   "source": [
    "from sklearn.preprocessing import StandardScaler\n",
    "from scipy.cluster.hierarchy import dendrogram, linkage\n",
    "from scipy.cluster.hierarchy import fcluster\n",
    "from scipy import stats"
   ]
  },
  {
   "cell_type": "code",
   "execution_count": 27,
   "id": "649f48cf",
   "metadata": {},
   "outputs": [],
   "source": [
    "data = pd.read_csv(\"SegmentationData.csv\")"
   ]
  },
  {
   "cell_type": "code",
   "execution_count": 28,
   "id": "c3210bdb",
   "metadata": {},
   "outputs": [
    {
     "data": {
      "text/html": [
       "<div>\n",
       "<style scoped>\n",
       "    .dataframe tbody tr th:only-of-type {\n",
       "        vertical-align: middle;\n",
       "    }\n",
       "\n",
       "    .dataframe tbody tr th {\n",
       "        vertical-align: top;\n",
       "    }\n",
       "\n",
       "    .dataframe thead th {\n",
       "        text-align: right;\n",
       "    }\n",
       "</style>\n",
       "<table border=\"1\" class=\"dataframe\">\n",
       "  <thead>\n",
       "    <tr style=\"text-align: right;\">\n",
       "      <th></th>\n",
       "      <th>ID</th>\n",
       "      <th>Trendy</th>\n",
       "      <th>Styling</th>\n",
       "      <th>Reliability</th>\n",
       "      <th>Sportiness</th>\n",
       "      <th>Performance</th>\n",
       "      <th>Comfort</th>\n",
       "      <th>MBA</th>\n",
       "      <th>Choice</th>\n",
       "    </tr>\n",
       "  </thead>\n",
       "  <tbody>\n",
       "    <tr>\n",
       "      <th>0</th>\n",
       "      <td>1</td>\n",
       "      <td>10</td>\n",
       "      <td>20</td>\n",
       "      <td>35</td>\n",
       "      <td>5</td>\n",
       "      <td>20</td>\n",
       "      <td>10</td>\n",
       "      <td>MBA</td>\n",
       "      <td>Lexus</td>\n",
       "    </tr>\n",
       "    <tr>\n",
       "      <th>1</th>\n",
       "      <td>2</td>\n",
       "      <td>25</td>\n",
       "      <td>5</td>\n",
       "      <td>25</td>\n",
       "      <td>5</td>\n",
       "      <td>25</td>\n",
       "      <td>15</td>\n",
       "      <td>MBA</td>\n",
       "      <td>BMW</td>\n",
       "    </tr>\n",
       "    <tr>\n",
       "      <th>2</th>\n",
       "      <td>3</td>\n",
       "      <td>10</td>\n",
       "      <td>20</td>\n",
       "      <td>30</td>\n",
       "      <td>10</td>\n",
       "      <td>10</td>\n",
       "      <td>20</td>\n",
       "      <td>MBA</td>\n",
       "      <td>Lexus</td>\n",
       "    </tr>\n",
       "    <tr>\n",
       "      <th>3</th>\n",
       "      <td>4</td>\n",
       "      <td>10</td>\n",
       "      <td>15</td>\n",
       "      <td>30</td>\n",
       "      <td>10</td>\n",
       "      <td>20</td>\n",
       "      <td>15</td>\n",
       "      <td>MBA</td>\n",
       "      <td>BMW</td>\n",
       "    </tr>\n",
       "    <tr>\n",
       "      <th>4</th>\n",
       "      <td>5</td>\n",
       "      <td>20</td>\n",
       "      <td>10</td>\n",
       "      <td>40</td>\n",
       "      <td>1</td>\n",
       "      <td>14</td>\n",
       "      <td>15</td>\n",
       "      <td>MBA</td>\n",
       "      <td>Mercedes</td>\n",
       "    </tr>\n",
       "  </tbody>\n",
       "</table>\n",
       "</div>"
      ],
      "text/plain": [
       "   ID  Trendy  Styling  Reliability  Sportiness  Performance  Comfort  MBA  \\\n",
       "0   1      10       20           35           5           20       10  MBA   \n",
       "1   2      25        5           25           5           25       15  MBA   \n",
       "2   3      10       20           30          10           10       20  MBA   \n",
       "3   4      10       15           30          10           20       15  MBA   \n",
       "4   5      20       10           40           1           14       15  MBA   \n",
       "\n",
       "     Choice  \n",
       "0     Lexus  \n",
       "1       BMW  \n",
       "2     Lexus  \n",
       "3       BMW  \n",
       "4  Mercedes  "
      ]
     },
     "execution_count": 28,
     "metadata": {},
     "output_type": "execute_result"
    }
   ],
   "source": [
    "data.head()"
   ]
  },
  {
   "cell_type": "code",
   "execution_count": 29,
   "id": "075e00cf",
   "metadata": {},
   "outputs": [],
   "source": [
    "scaler = StandardScaler()"
   ]
  },
  {
   "cell_type": "code",
   "execution_count": 30,
   "id": "09b5adec",
   "metadata": {},
   "outputs": [],
   "source": [
    "scaled_data = scaler.fit_transform(data.select_dtypes(exclude=\"object\"))"
   ]
  },
  {
   "cell_type": "code",
   "execution_count": 31,
   "id": "40b7ece0",
   "metadata": {},
   "outputs": [
    {
     "data": {
      "text/html": [
       "<div>\n",
       "<style scoped>\n",
       "    .dataframe tbody tr th:only-of-type {\n",
       "        vertical-align: middle;\n",
       "    }\n",
       "\n",
       "    .dataframe tbody tr th {\n",
       "        vertical-align: top;\n",
       "    }\n",
       "\n",
       "    .dataframe thead th {\n",
       "        text-align: right;\n",
       "    }\n",
       "</style>\n",
       "<table border=\"1\" class=\"dataframe\">\n",
       "  <thead>\n",
       "    <tr style=\"text-align: right;\">\n",
       "      <th></th>\n",
       "      <th>Trendy</th>\n",
       "      <th>Styling</th>\n",
       "      <th>Reliability</th>\n",
       "      <th>Sportiness</th>\n",
       "      <th>Performance</th>\n",
       "      <th>Comfort</th>\n",
       "    </tr>\n",
       "  </thead>\n",
       "  <tbody>\n",
       "    <tr>\n",
       "      <th>0</th>\n",
       "      <td>-0.689164</td>\n",
       "      <td>0.499143</td>\n",
       "      <td>1.777941</td>\n",
       "      <td>-1.171735</td>\n",
       "      <td>0.086045</td>\n",
       "      <td>-1.114841</td>\n",
       "    </tr>\n",
       "    <tr>\n",
       "      <th>1</th>\n",
       "      <td>1.448611</td>\n",
       "      <td>-1.930019</td>\n",
       "      <td>0.357922</td>\n",
       "      <td>-1.171735</td>\n",
       "      <td>0.833813</td>\n",
       "      <td>-0.084671</td>\n",
       "    </tr>\n",
       "    <tr>\n",
       "      <th>2</th>\n",
       "      <td>-0.689164</td>\n",
       "      <td>0.499143</td>\n",
       "      <td>1.067932</td>\n",
       "      <td>-0.184014</td>\n",
       "      <td>-1.409493</td>\n",
       "      <td>0.945498</td>\n",
       "    </tr>\n",
       "    <tr>\n",
       "      <th>3</th>\n",
       "      <td>-0.689164</td>\n",
       "      <td>-0.310578</td>\n",
       "      <td>1.067932</td>\n",
       "      <td>-0.184014</td>\n",
       "      <td>0.086045</td>\n",
       "      <td>-0.084671</td>\n",
       "    </tr>\n",
       "    <tr>\n",
       "      <th>4</th>\n",
       "      <td>0.736019</td>\n",
       "      <td>-1.120299</td>\n",
       "      <td>2.487950</td>\n",
       "      <td>-1.961912</td>\n",
       "      <td>-0.811278</td>\n",
       "      <td>-0.084671</td>\n",
       "    </tr>\n",
       "    <tr>\n",
       "      <th>...</th>\n",
       "      <td>...</td>\n",
       "      <td>...</td>\n",
       "      <td>...</td>\n",
       "      <td>...</td>\n",
       "      <td>...</td>\n",
       "      <td>...</td>\n",
       "    </tr>\n",
       "    <tr>\n",
       "      <th>68</th>\n",
       "      <td>0.450983</td>\n",
       "      <td>0.175255</td>\n",
       "      <td>-0.494089</td>\n",
       "      <td>0.803707</td>\n",
       "      <td>-0.362617</td>\n",
       "      <td>-0.496739</td>\n",
       "    </tr>\n",
       "    <tr>\n",
       "      <th>69</th>\n",
       "      <td>0.736019</td>\n",
       "      <td>1.308864</td>\n",
       "      <td>-1.062096</td>\n",
       "      <td>-0.184014</td>\n",
       "      <td>-0.661724</td>\n",
       "      <td>-0.084671</td>\n",
       "    </tr>\n",
       "    <tr>\n",
       "      <th>70</th>\n",
       "      <td>0.023428</td>\n",
       "      <td>-0.310578</td>\n",
       "      <td>-0.352087</td>\n",
       "      <td>-0.184014</td>\n",
       "      <td>0.833813</td>\n",
       "      <td>-0.084671</td>\n",
       "    </tr>\n",
       "    <tr>\n",
       "      <th>71</th>\n",
       "      <td>-0.689164</td>\n",
       "      <td>2.118585</td>\n",
       "      <td>-0.352087</td>\n",
       "      <td>-1.171735</td>\n",
       "      <td>0.086045</td>\n",
       "      <td>-0.084671</td>\n",
       "    </tr>\n",
       "    <tr>\n",
       "      <th>72</th>\n",
       "      <td>-1.686792</td>\n",
       "      <td>0.499143</td>\n",
       "      <td>0.357922</td>\n",
       "      <td>-1.764367</td>\n",
       "      <td>3.077120</td>\n",
       "      <td>-1.114841</td>\n",
       "    </tr>\n",
       "  </tbody>\n",
       "</table>\n",
       "<p>73 rows × 6 columns</p>\n",
       "</div>"
      ],
      "text/plain": [
       "      Trendy   Styling  Reliability  Sportiness  Performance   Comfort\n",
       "0  -0.689164  0.499143     1.777941   -1.171735     0.086045 -1.114841\n",
       "1   1.448611 -1.930019     0.357922   -1.171735     0.833813 -0.084671\n",
       "2  -0.689164  0.499143     1.067932   -0.184014    -1.409493  0.945498\n",
       "3  -0.689164 -0.310578     1.067932   -0.184014     0.086045 -0.084671\n",
       "4   0.736019 -1.120299     2.487950   -1.961912    -0.811278 -0.084671\n",
       "..       ...       ...          ...         ...          ...       ...\n",
       "68  0.450983  0.175255    -0.494089    0.803707    -0.362617 -0.496739\n",
       "69  0.736019  1.308864    -1.062096   -0.184014    -0.661724 -0.084671\n",
       "70  0.023428 -0.310578    -0.352087   -0.184014     0.833813 -0.084671\n",
       "71 -0.689164  2.118585    -0.352087   -1.171735     0.086045 -0.084671\n",
       "72 -1.686792  0.499143     0.357922   -1.764367     3.077120 -1.114841\n",
       "\n",
       "[73 rows x 6 columns]"
      ]
     },
     "execution_count": 31,
     "metadata": {},
     "output_type": "execute_result"
    }
   ],
   "source": [
    "scaled_data = pd.DataFrame(scaled_data, columns=data.select_dtypes(exclude=\"object\").columns).drop(\"ID\",axis=1)\n",
    "scaled_data"
   ]
  },
  {
   "cell_type": "code",
   "execution_count": 32,
   "id": "1c19e4f0",
   "metadata": {},
   "outputs": [],
   "source": [
    "link = linkage(scaled_data,'ward')"
   ]
  },
  {
   "cell_type": "code",
   "execution_count": 33,
   "id": "0624e603",
   "metadata": {},
   "outputs": [
    {
     "data": {
      "image/png": "[encoded data removed]",
      "text/plain": [
       "<Figure size 1000x600 with 1 Axes>"
      ]
     },
     "metadata": {
      "needs_background": "light"
     },
     "output_type": "display_data"
    }
   ],
   "source": [
    "plt.figure(figsize=(10,6),dpi=100)\n",
    "dendrogram(link,p=20,truncate_mode=\"lastp\")\n",
    "plt.title('Cluster Jerarquico')\n",
    "plt.ylabel('Distancia');"
   ]
  },
  {
   "cell_type": "code",
   "execution_count": 34,
   "id": "203a37d1",
   "metadata": {},
   "outputs": [
    {
     "data": {
      "text/plain": [
       "array([4, 4, 2, 4, 4, 1, 2, 4, 4, 3, 4, 3, 2, 1, 4, 2, 1, 4, 2, 1, 4, 2,\n",
       "       4, 4, 2, 1, 2, 1, 4, 2, 3, 1, 4, 1, 3, 2, 4, 2, 2, 3, 2, 4, 3, 4,\n",
       "       1, 2, 2, 2, 3, 2, 2, 1, 2, 2, 2, 2, 1, 2, 2, 1, 2, 1, 2, 1, 1, 2,\n",
       "       2, 1, 2, 1, 4, 3, 3], dtype=int32)"
      ]
     },
     "execution_count": 34,
     "metadata": {},
     "output_type": "execute_result"
    }
   ],
   "source": [
    "labels = fcluster(link, 8, criterion='distance')\n",
    "labels"
   ]
  },
  {
   "cell_type": "code",
   "execution_count": 35,
   "id": "83186a0f",
   "metadata": {},
   "outputs": [],
   "source": [
    "scaled_data[\"Cluster\"] = labels"
   ]
  },
  {
   "cell_type": "code",
   "execution_count": 36,
   "id": "1236d453",
   "metadata": {},
   "outputs": [
    {
     "data": {
      "text/html": [
       "<div>\n",
       "<style scoped>\n",
       "    .dataframe tbody tr th:only-of-type {\n",
       "        vertical-align: middle;\n",
       "    }\n",
       "\n",
       "    .dataframe tbody tr th {\n",
       "        vertical-align: top;\n",
       "    }\n",
       "\n",
       "    .dataframe thead th {\n",
       "        text-align: right;\n",
       "    }\n",
       "</style>\n",
       "<table border=\"1\" class=\"dataframe\">\n",
       "  <thead>\n",
       "    <tr style=\"text-align: right;\">\n",
       "      <th></th>\n",
       "      <th>Trendy</th>\n",
       "      <th>Styling</th>\n",
       "      <th>Reliability</th>\n",
       "      <th>Sportiness</th>\n",
       "      <th>Performance</th>\n",
       "      <th>Comfort</th>\n",
       "      <th>Cluster</th>\n",
       "    </tr>\n",
       "  </thead>\n",
       "  <tbody>\n",
       "    <tr>\n",
       "      <th>0</th>\n",
       "      <td>-0.689164</td>\n",
       "      <td>0.499143</td>\n",
       "      <td>1.777941</td>\n",
       "      <td>-1.171735</td>\n",
       "      <td>0.086045</td>\n",
       "      <td>-1.114841</td>\n",
       "      <td>4</td>\n",
       "    </tr>\n",
       "    <tr>\n",
       "      <th>1</th>\n",
       "      <td>1.448611</td>\n",
       "      <td>-1.930019</td>\n",
       "      <td>0.357922</td>\n",
       "      <td>-1.171735</td>\n",
       "      <td>0.833813</td>\n",
       "      <td>-0.084671</td>\n",
       "      <td>4</td>\n",
       "    </tr>\n",
       "    <tr>\n",
       "      <th>2</th>\n",
       "      <td>-0.689164</td>\n",
       "      <td>0.499143</td>\n",
       "      <td>1.067932</td>\n",
       "      <td>-0.184014</td>\n",
       "      <td>-1.409493</td>\n",
       "      <td>0.945498</td>\n",
       "      <td>2</td>\n",
       "    </tr>\n",
       "    <tr>\n",
       "      <th>3</th>\n",
       "      <td>-0.689164</td>\n",
       "      <td>-0.310578</td>\n",
       "      <td>1.067932</td>\n",
       "      <td>-0.184014</td>\n",
       "      <td>0.086045</td>\n",
       "      <td>-0.084671</td>\n",
       "      <td>4</td>\n",
       "    </tr>\n",
       "    <tr>\n",
       "      <th>4</th>\n",
       "      <td>0.736019</td>\n",
       "      <td>-1.120299</td>\n",
       "      <td>2.487950</td>\n",
       "      <td>-1.961912</td>\n",
       "      <td>-0.811278</td>\n",
       "      <td>-0.084671</td>\n",
       "      <td>4</td>\n",
       "    </tr>\n",
       "  </tbody>\n",
       "</table>\n",
       "</div>"
      ],
      "text/plain": [
       "     Trendy   Styling  Reliability  Sportiness  Performance   Comfort  Cluster\n",
       "0 -0.689164  0.499143     1.777941   -1.171735     0.086045 -1.114841        4\n",
       "1  1.448611 -1.930019     0.357922   -1.171735     0.833813 -0.084671        4\n",
       "2 -0.689164  0.499143     1.067932   -0.184014    -1.409493  0.945498        2\n",
       "3 -0.689164 -0.310578     1.067932   -0.184014     0.086045 -0.084671        4\n",
       "4  0.736019 -1.120299     2.487950   -1.961912    -0.811278 -0.084671        4"
      ]
     },
     "execution_count": 36,
     "metadata": {},
     "output_type": "execute_result"
    }
   ],
   "source": [
    "scaled_data.head()"
   ]
  },
  {
   "cell_type": "code",
   "execution_count": 37,
   "id": "ba53fbf3",
   "metadata": {},
   "outputs": [
    {
     "data": {
      "text/html": [
       "<div>\n",
       "<style scoped>\n",
       "    .dataframe tbody tr th:only-of-type {\n",
       "        vertical-align: middle;\n",
       "    }\n",
       "\n",
       "    .dataframe tbody tr th {\n",
       "        vertical-align: top;\n",
       "    }\n",
       "\n",
       "    .dataframe thead th {\n",
       "        text-align: right;\n",
       "    }\n",
       "</style>\n",
       "<table border=\"1\" class=\"dataframe\">\n",
       "  <thead>\n",
       "    <tr style=\"text-align: right;\">\n",
       "      <th></th>\n",
       "      <th>Trendy</th>\n",
       "      <th>Styling</th>\n",
       "      <th>Reliability</th>\n",
       "      <th>Sportiness</th>\n",
       "      <th>Performance</th>\n",
       "      <th>Comfort</th>\n",
       "    </tr>\n",
       "    <tr>\n",
       "      <th>Cluster</th>\n",
       "      <th></th>\n",
       "      <th></th>\n",
       "      <th></th>\n",
       "      <th></th>\n",
       "      <th></th>\n",
       "      <th></th>\n",
       "    </tr>\n",
       "  </thead>\n",
       "  <tbody>\n",
       "    <tr>\n",
       "      <th>1</th>\n",
       "      <td>1.155191</td>\n",
       "      <td>0.861136</td>\n",
       "      <td>-0.661150</td>\n",
       "      <td>0.164594</td>\n",
       "      <td>-0.925642</td>\n",
       "      <td>-0.702773</td>\n",
       "    </tr>\n",
       "    <tr>\n",
       "      <th>2</th>\n",
       "      <td>-0.015888</td>\n",
       "      <td>-0.427848</td>\n",
       "      <td>-0.283534</td>\n",
       "      <td>0.503985</td>\n",
       "      <td>-0.099608</td>\n",
       "      <td>0.590267</td>\n",
       "    </tr>\n",
       "    <tr>\n",
       "      <th>3</th>\n",
       "      <td>-1.116719</td>\n",
       "      <td>1.128926</td>\n",
       "      <td>-0.052305</td>\n",
       "      <td>-0.030368</td>\n",
       "      <td>0.750728</td>\n",
       "      <td>-0.748559</td>\n",
       "    </tr>\n",
       "    <tr>\n",
       "      <th>4</th>\n",
       "      <td>-0.507057</td>\n",
       "      <td>-0.688448</td>\n",
       "      <td>1.107377</td>\n",
       "      <td>-0.952241</td>\n",
       "      <td>0.659334</td>\n",
       "      <td>0.087023</td>\n",
       "    </tr>\n",
       "  </tbody>\n",
       "</table>\n",
       "</div>"
      ],
      "text/plain": [
       "           Trendy   Styling  Reliability  Sportiness  Performance   Comfort\n",
       "Cluster                                                                    \n",
       "1        1.155191  0.861136    -0.661150    0.164594    -0.925642 -0.702773\n",
       "2       -0.015888 -0.427848    -0.283534    0.503985    -0.099608  0.590267\n",
       "3       -1.116719  1.128926    -0.052305   -0.030368     0.750728 -0.748559\n",
       "4       -0.507057 -0.688448     1.107377   -0.952241     0.659334  0.087023"
      ]
     },
     "execution_count": 37,
     "metadata": {},
     "output_type": "execute_result"
    }
   ],
   "source": [
    "group_cluster = scaled_data.groupby(['Cluster']).mean()\n",
    "group_cluster"
   ]
  },
  {
   "cell_type": "code",
   "execution_count": 38,
   "id": "2b1dfcc8",
   "metadata": {},
   "outputs": [],
   "source": [
    "cluster = {1: 'Imagen y estilo', 2:'Deportivo Comodo', 3:'Rendimiento y velocidad', 4:\"Ejecutivo\"}"
   ]
  },
  {
   "cell_type": "code",
   "execution_count": 39,
   "id": "8afbe9c7",
   "metadata": {},
   "outputs": [],
   "source": [
    "scaled_data = scaled_data.replace({'Cluster': cluster})"
   ]
  },
  {
   "cell_type": "code",
   "execution_count": 40,
   "id": "391b09ba",
   "metadata": {},
   "outputs": [
    {
     "data": {
      "text/html": [
       "<div>\n",
       "<style scoped>\n",
       "    .dataframe tbody tr th:only-of-type {\n",
       "        vertical-align: middle;\n",
       "    }\n",
       "\n",
       "    .dataframe tbody tr th {\n",
       "        vertical-align: top;\n",
       "    }\n",
       "\n",
       "    .dataframe thead th {\n",
       "        text-align: right;\n",
       "    }\n",
       "</style>\n",
       "<table border=\"1\" class=\"dataframe\">\n",
       "  <thead>\n",
       "    <tr style=\"text-align: right;\">\n",
       "      <th></th>\n",
       "      <th>Trendy</th>\n",
       "      <th>Styling</th>\n",
       "      <th>Reliability</th>\n",
       "      <th>Sportiness</th>\n",
       "      <th>Performance</th>\n",
       "      <th>Comfort</th>\n",
       "    </tr>\n",
       "    <tr>\n",
       "      <th>Cluster</th>\n",
       "      <th></th>\n",
       "      <th></th>\n",
       "      <th></th>\n",
       "      <th></th>\n",
       "      <th></th>\n",
       "      <th></th>\n",
       "    </tr>\n",
       "  </thead>\n",
       "  <tbody>\n",
       "    <tr>\n",
       "      <th>Deportivo Comodo</th>\n",
       "      <td>-0.015888</td>\n",
       "      <td>-0.427848</td>\n",
       "      <td>-0.283534</td>\n",
       "      <td>0.503985</td>\n",
       "      <td>-0.099608</td>\n",
       "      <td>0.590267</td>\n",
       "    </tr>\n",
       "    <tr>\n",
       "      <th>Ejecutivo</th>\n",
       "      <td>-0.507057</td>\n",
       "      <td>-0.688448</td>\n",
       "      <td>1.107377</td>\n",
       "      <td>-0.952241</td>\n",
       "      <td>0.659334</td>\n",
       "      <td>0.087023</td>\n",
       "    </tr>\n",
       "    <tr>\n",
       "      <th>Imagen y estilo</th>\n",
       "      <td>1.155191</td>\n",
       "      <td>0.861136</td>\n",
       "      <td>-0.661150</td>\n",
       "      <td>0.164594</td>\n",
       "      <td>-0.925642</td>\n",
       "      <td>-0.702773</td>\n",
       "    </tr>\n",
       "    <tr>\n",
       "      <th>Rendimiento y velocidad</th>\n",
       "      <td>-1.116719</td>\n",
       "      <td>1.128926</td>\n",
       "      <td>-0.052305</td>\n",
       "      <td>-0.030368</td>\n",
       "      <td>0.750728</td>\n",
       "      <td>-0.748559</td>\n",
       "    </tr>\n",
       "  </tbody>\n",
       "</table>\n",
       "</div>"
      ],
      "text/plain": [
       "                           Trendy   Styling  Reliability  Sportiness  \\\n",
       "Cluster                                                                \n",
       "Deportivo Comodo        -0.015888 -0.427848    -0.283534    0.503985   \n",
       "Ejecutivo               -0.507057 -0.688448     1.107377   -0.952241   \n",
       "Imagen y estilo          1.155191  0.861136    -0.661150    0.164594   \n",
       "Rendimiento y velocidad -1.116719  1.128926    -0.052305   -0.030368   \n",
       "\n",
       "                         Performance   Comfort  \n",
       "Cluster                                         \n",
       "Deportivo Comodo           -0.099608  0.590267  \n",
       "Ejecutivo                   0.659334  0.087023  \n",
       "Imagen y estilo            -0.925642 -0.702773  \n",
       "Rendimiento y velocidad     0.750728 -0.748559  "
      ]
     },
     "execution_count": 40,
     "metadata": {},
     "output_type": "execute_result"
    }
   ],
   "source": [
    "group_cluster = scaled_data.groupby(['Cluster']).mean()\n",
    "group_cluster"
   ]
  },
  {
   "cell_type": "code",
   "execution_count": 41,
   "id": "ccb6866a",
   "metadata": {},
   "outputs": [
    {
     "data": {
      "text/html": [
       "<div>\n",
       "<style scoped>\n",
       "    .dataframe tbody tr th:only-of-type {\n",
       "        vertical-align: middle;\n",
       "    }\n",
       "\n",
       "    .dataframe tbody tr th {\n",
       "        vertical-align: top;\n",
       "    }\n",
       "\n",
       "    .dataframe thead th {\n",
       "        text-align: right;\n",
       "    }\n",
       "</style>\n",
       "<table border=\"1\" class=\"dataframe\">\n",
       "  <thead>\n",
       "    <tr style=\"text-align: right;\">\n",
       "      <th>Cluster</th>\n",
       "      <th>Deportivo Comodo</th>\n",
       "      <th>Ejecutivo</th>\n",
       "      <th>Imagen y estilo</th>\n",
       "      <th>Rendimiento y velocidad</th>\n",
       "    </tr>\n",
       "    <tr>\n",
       "      <th>MBA</th>\n",
       "      <th></th>\n",
       "      <th></th>\n",
       "      <th></th>\n",
       "      <th></th>\n",
       "    </tr>\n",
       "  </thead>\n",
       "  <tbody>\n",
       "    <tr>\n",
       "      <th>MBA</th>\n",
       "      <td>6</td>\n",
       "      <td>12</td>\n",
       "      <td>4</td>\n",
       "      <td>2</td>\n",
       "    </tr>\n",
       "    <tr>\n",
       "      <th>Undergrad</th>\n",
       "      <td>23</td>\n",
       "      <td>6</td>\n",
       "      <td>13</td>\n",
       "      <td>7</td>\n",
       "    </tr>\n",
       "  </tbody>\n",
       "</table>\n",
       "</div>"
      ],
      "text/plain": [
       "Cluster    Deportivo Comodo  Ejecutivo  Imagen y estilo  \\\n",
       "MBA                                                       \n",
       "MBA                       6         12                4   \n",
       "Undergrad                23          6               13   \n",
       "\n",
       "Cluster    Rendimiento y velocidad  \n",
       "MBA                                 \n",
       "MBA                              2  \n",
       "Undergrad                        7  "
      ]
     },
     "execution_count": 41,
     "metadata": {},
     "output_type": "execute_result"
    }
   ],
   "source": [
    "pd.crosstab(data.MBA, scaled_data.Cluster,margins=False)"
   ]
  },
  {
   "cell_type": "code",
   "execution_count": 42,
   "id": "e5f57c55",
   "metadata": {},
   "outputs": [
    {
     "data": {
      "text/html": [
       "<div>\n",
       "<style scoped>\n",
       "    .dataframe tbody tr th:only-of-type {\n",
       "        vertical-align: middle;\n",
       "    }\n",
       "\n",
       "    .dataframe tbody tr th {\n",
       "        vertical-align: top;\n",
       "    }\n",
       "\n",
       "    .dataframe thead th {\n",
       "        text-align: right;\n",
       "    }\n",
       "</style>\n",
       "<table border=\"1\" class=\"dataframe\">\n",
       "  <thead>\n",
       "    <tr style=\"text-align: right;\">\n",
       "      <th>Cluster</th>\n",
       "      <th>Deportivo Comodo</th>\n",
       "      <th>Ejecutivo</th>\n",
       "      <th>Imagen y estilo</th>\n",
       "      <th>Rendimiento y velocidad</th>\n",
       "    </tr>\n",
       "    <tr>\n",
       "      <th>MBA</th>\n",
       "      <th></th>\n",
       "      <th></th>\n",
       "      <th></th>\n",
       "      <th></th>\n",
       "    </tr>\n",
       "  </thead>\n",
       "  <tbody>\n",
       "    <tr>\n",
       "      <th>MBA</th>\n",
       "      <td>0.250000</td>\n",
       "      <td>0.500000</td>\n",
       "      <td>0.166667</td>\n",
       "      <td>0.083333</td>\n",
       "    </tr>\n",
       "    <tr>\n",
       "      <th>Undergrad</th>\n",
       "      <td>0.469388</td>\n",
       "      <td>0.122449</td>\n",
       "      <td>0.265306</td>\n",
       "      <td>0.142857</td>\n",
       "    </tr>\n",
       "  </tbody>\n",
       "</table>\n",
       "</div>"
      ],
      "text/plain": [
       "Cluster    Deportivo Comodo  Ejecutivo  Imagen y estilo  \\\n",
       "MBA                                                       \n",
       "MBA                0.250000   0.500000         0.166667   \n",
       "Undergrad          0.469388   0.122449         0.265306   \n",
       "\n",
       "Cluster    Rendimiento y velocidad  \n",
       "MBA                                 \n",
       "MBA                       0.083333  \n",
       "Undergrad                 0.142857  "
      ]
     },
     "execution_count": 42,
     "metadata": {},
     "output_type": "execute_result"
    }
   ],
   "source": [
    "pd.crosstab(data.MBA, scaled_data.Cluster, margins=False, normalize='index')"
   ]
  },
  {
   "cell_type": "code",
   "execution_count": 43,
   "id": "1f2b1026",
   "metadata": {},
   "outputs": [
    {
     "data": {
      "text/html": [
       "<div>\n",
       "<style scoped>\n",
       "    .dataframe tbody tr th:only-of-type {\n",
       "        vertical-align: middle;\n",
       "    }\n",
       "\n",
       "    .dataframe tbody tr th {\n",
       "        vertical-align: top;\n",
       "    }\n",
       "\n",
       "    .dataframe thead th {\n",
       "        text-align: right;\n",
       "    }\n",
       "</style>\n",
       "<table border=\"1\" class=\"dataframe\">\n",
       "  <thead>\n",
       "    <tr style=\"text-align: right;\">\n",
       "      <th>Cluster</th>\n",
       "      <th>Deportivo Comodo</th>\n",
       "      <th>Ejecutivo</th>\n",
       "      <th>Imagen y estilo</th>\n",
       "      <th>Rendimiento y velocidad</th>\n",
       "    </tr>\n",
       "    <tr>\n",
       "      <th>Choice</th>\n",
       "      <th></th>\n",
       "      <th></th>\n",
       "      <th></th>\n",
       "      <th></th>\n",
       "    </tr>\n",
       "  </thead>\n",
       "  <tbody>\n",
       "    <tr>\n",
       "      <th>BMW</th>\n",
       "      <td>10</td>\n",
       "      <td>8</td>\n",
       "      <td>8</td>\n",
       "      <td>6</td>\n",
       "    </tr>\n",
       "    <tr>\n",
       "      <th>Lexus</th>\n",
       "      <td>8</td>\n",
       "      <td>9</td>\n",
       "      <td>5</td>\n",
       "      <td>0</td>\n",
       "    </tr>\n",
       "    <tr>\n",
       "      <th>Mercedes</th>\n",
       "      <td>11</td>\n",
       "      <td>1</td>\n",
       "      <td>4</td>\n",
       "      <td>3</td>\n",
       "    </tr>\n",
       "  </tbody>\n",
       "</table>\n",
       "</div>"
      ],
      "text/plain": [
       "Cluster   Deportivo Comodo  Ejecutivo  Imagen y estilo  \\\n",
       "Choice                                                   \n",
       "BMW                     10          8                8   \n",
       "Lexus                    8          9                5   \n",
       "Mercedes                11          1                4   \n",
       "\n",
       "Cluster   Rendimiento y velocidad  \n",
       "Choice                             \n",
       "BMW                             6  \n",
       "Lexus                           0  \n",
       "Mercedes                        3  "
      ]
     },
     "execution_count": 43,
     "metadata": {},
     "output_type": "execute_result"
    }
   ],
   "source": [
    "pd.crosstab(data.Choice, scaled_data.Cluster, margins=False)"
   ]
  },
  {
   "cell_type": "code",
   "execution_count": 44,
   "id": "f9705462",
   "metadata": {},
   "outputs": [
    {
     "data": {
      "text/html": [
       "<div>\n",
       "<style scoped>\n",
       "    .dataframe tbody tr th:only-of-type {\n",
       "        vertical-align: middle;\n",
       "    }\n",
       "\n",
       "    .dataframe tbody tr th {\n",
       "        vertical-align: top;\n",
       "    }\n",
       "\n",
       "    .dataframe thead th {\n",
       "        text-align: right;\n",
       "    }\n",
       "</style>\n",
       "<table border=\"1\" class=\"dataframe\">\n",
       "  <thead>\n",
       "    <tr style=\"text-align: right;\">\n",
       "      <th>Cluster</th>\n",
       "      <th>Deportivo Comodo</th>\n",
       "      <th>Ejecutivo</th>\n",
       "      <th>Imagen y estilo</th>\n",
       "      <th>Rendimiento y velocidad</th>\n",
       "    </tr>\n",
       "    <tr>\n",
       "      <th>Choice</th>\n",
       "      <th></th>\n",
       "      <th></th>\n",
       "      <th></th>\n",
       "      <th></th>\n",
       "    </tr>\n",
       "  </thead>\n",
       "  <tbody>\n",
       "    <tr>\n",
       "      <th>BMW</th>\n",
       "      <td>0.312500</td>\n",
       "      <td>0.250000</td>\n",
       "      <td>0.250000</td>\n",
       "      <td>0.187500</td>\n",
       "    </tr>\n",
       "    <tr>\n",
       "      <th>Lexus</th>\n",
       "      <td>0.363636</td>\n",
       "      <td>0.409091</td>\n",
       "      <td>0.227273</td>\n",
       "      <td>0.000000</td>\n",
       "    </tr>\n",
       "    <tr>\n",
       "      <th>Mercedes</th>\n",
       "      <td>0.578947</td>\n",
       "      <td>0.052632</td>\n",
       "      <td>0.210526</td>\n",
       "      <td>0.157895</td>\n",
       "    </tr>\n",
       "  </tbody>\n",
       "</table>\n",
       "</div>"
      ],
      "text/plain": [
       "Cluster   Deportivo Comodo  Ejecutivo  Imagen y estilo  \\\n",
       "Choice                                                   \n",
       "BMW               0.312500   0.250000         0.250000   \n",
       "Lexus             0.363636   0.409091         0.227273   \n",
       "Mercedes          0.578947   0.052632         0.210526   \n",
       "\n",
       "Cluster   Rendimiento y velocidad  \n",
       "Choice                             \n",
       "BMW                      0.187500  \n",
       "Lexus                    0.000000  \n",
       "Mercedes                 0.157895  "
      ]
     },
     "execution_count": 44,
     "metadata": {},
     "output_type": "execute_result"
    }
   ],
   "source": [
    "pd.crosstab(data.Choice, scaled_data.Cluster, margins=False,normalize='index')"
   ]
  },
  {
   "cell_type": "markdown",
   "id": "9e739afa",
   "metadata": {},
   "source": [
    "<font color=\"blue\">**Chi2 Tests**</font>"
   ]
  },
  {
   "cell_type": "code",
   "execution_count": 45,
   "id": "508dc763",
   "metadata": {},
   "outputs": [
    {
     "data": {
      "text/plain": [
       "array([[ 6, 12,  4,  2],\n",
       "       [23,  6, 13,  7]], dtype=int64)"
      ]
     },
     "execution_count": 45,
     "metadata": {},
     "output_type": "execute_result"
    }
   ],
   "source": [
    "f_obs = pd.crosstab(data.MBA, scaled_data.Cluster,margins=False).values\n",
    "f_obs"
   ]
  },
  {
   "cell_type": "markdown",
   "id": "763fed45",
   "metadata": {},
   "source": [
    "P-value es menor a 0.05, existe una relacion significativa entre MBA y Cluster, sin embargo es cuestionable ya que no contamos con suficientes grados de libertad para sostener dicha afirmacion."
   ]
  },
  {
   "cell_type": "code",
   "execution_count": 46,
   "id": "c52916a6",
   "metadata": {},
   "outputs": [
    {
     "data": {
      "text/html": [
       "<div>\n",
       "<style scoped>\n",
       "    .dataframe tbody tr th:only-of-type {\n",
       "        vertical-align: middle;\n",
       "    }\n",
       "\n",
       "    .dataframe tbody tr th {\n",
       "        vertical-align: top;\n",
       "    }\n",
       "\n",
       "    .dataframe thead th {\n",
       "        text-align: right;\n",
       "    }\n",
       "</style>\n",
       "<table border=\"1\" class=\"dataframe\">\n",
       "  <thead>\n",
       "    <tr style=\"text-align: right;\">\n",
       "      <th></th>\n",
       "      <th>0</th>\n",
       "    </tr>\n",
       "  </thead>\n",
       "  <tbody>\n",
       "    <tr>\n",
       "      <th>Chi2 (T-statistic)</th>\n",
       "      <td>12.400752</td>\n",
       "    </tr>\n",
       "    <tr>\n",
       "      <th>P-value</th>\n",
       "      <td>0.006129</td>\n",
       "    </tr>\n",
       "    <tr>\n",
       "      <th>Degrees of Freedom</th>\n",
       "      <td>3.000000</td>\n",
       "    </tr>\n",
       "  </tbody>\n",
       "</table>\n",
       "</div>"
      ],
      "text/plain": [
       "                            0\n",
       "Chi2 (T-statistic)  12.400752\n",
       "P-value              0.006129\n",
       "Degrees of Freedom   3.000000"
      ]
     },
     "execution_count": 46,
     "metadata": {},
     "output_type": "execute_result"
    }
   ],
   "source": [
    "pd.DataFrame(stats.chi2_contingency(f_obs)[0:3],index=[\"Chi2 (T-statistic)\",\"P-value\",\"Degrees of Freedom\"])"
   ]
  },
  {
   "cell_type": "code",
   "execution_count": 47,
   "id": "fc569334",
   "metadata": {},
   "outputs": [
    {
     "data": {
      "text/plain": [
       "array([[10,  8,  8,  6],\n",
       "       [ 8,  9,  5,  0],\n",
       "       [11,  1,  4,  3]], dtype=int64)"
      ]
     },
     "execution_count": 47,
     "metadata": {},
     "output_type": "execute_result"
    }
   ],
   "source": [
    "f_obs = pd.crosstab(data.Choice, scaled_data.Cluster, margins=False).values\n",
    "f_obs"
   ]
  },
  {
   "cell_type": "markdown",
   "id": "04e027a9",
   "metadata": {},
   "source": [
    "P-value es mayor a 0.05, No existe una relacion significativa entre Choice y Cluster, en mi parecer seguimos teniendo pocos grados de libertad para respaldar esto. considerando aparte que 0.073 esta bastante cerca de 0.05"
   ]
  },
  {
   "cell_type": "code",
   "execution_count": 48,
   "id": "2a280bb1",
   "metadata": {},
   "outputs": [
    {
     "data": {
      "text/html": [
       "<div>\n",
       "<style scoped>\n",
       "    .dataframe tbody tr th:only-of-type {\n",
       "        vertical-align: middle;\n",
       "    }\n",
       "\n",
       "    .dataframe tbody tr th {\n",
       "        vertical-align: top;\n",
       "    }\n",
       "\n",
       "    .dataframe thead th {\n",
       "        text-align: right;\n",
       "    }\n",
       "</style>\n",
       "<table border=\"1\" class=\"dataframe\">\n",
       "  <thead>\n",
       "    <tr style=\"text-align: right;\">\n",
       "      <th></th>\n",
       "      <th>0</th>\n",
       "    </tr>\n",
       "  </thead>\n",
       "  <tbody>\n",
       "    <tr>\n",
       "      <th>Chi2 (T-statistic)</th>\n",
       "      <td>11.527615</td>\n",
       "    </tr>\n",
       "    <tr>\n",
       "      <th>P-value</th>\n",
       "      <td>0.073376</td>\n",
       "    </tr>\n",
       "    <tr>\n",
       "      <th>Degrees of Freedom</th>\n",
       "      <td>6.000000</td>\n",
       "    </tr>\n",
       "  </tbody>\n",
       "</table>\n",
       "</div>"
      ],
      "text/plain": [
       "                            0\n",
       "Chi2 (T-statistic)  11.527615\n",
       "P-value              0.073376\n",
       "Degrees of Freedom   6.000000"
      ]
     },
     "execution_count": 48,
     "metadata": {},
     "output_type": "execute_result"
    }
   ],
   "source": [
    "pd.DataFrame(stats.chi2_contingency(f_obs)[0:3],index=[\"Chi2 (T-statistic)\",\"P-value\",\"Degrees of Freedom\"])"
   ]
  },
  {
   "cell_type": "code",
   "execution_count": null,
   "id": "183bd017",
   "metadata": {},
   "outputs": [],
   "source": []
  }
 ],
 "metadata": {
  "hide_input": false,
  "kernelspec": {
   "display_name": "Python 3 (ipykernel)",
   "language": "python",
   "name": "python3"
  },
  "language_info": {
   "codemirror_mode": {
    "name": "ipython",
    "version": 3
   },
   "file_extension": ".py",
   "mimetype": "text/x-python",
   "name": "python",
   "nbconvert_exporter": "python",
   "pygments_lexer": "ipython3",
   "version": "3.9.13"
  },
  "toc": {
   "base_numbering": 1,
   "nav_menu": {},
   "number_sections": true,
   "sideBar": true,
   "skip_h1_title": false,
   "title_cell": "Table of Contents",
   "title_sidebar": "Contents",
   "toc_cell": false,
   "toc_position": {},
   "toc_section_display": true,
   "toc_window_display": false
  },
  "varInspector": {
   "cols": {
    "lenName": 16,
    "lenType": 16,
    "lenVar": 40
   },
   "kernels_config": {
    "python": {
     "delete_cmd_postfix": "",
     "delete_cmd_prefix": "del ",
     "library": "var_list.py",
     "varRefreshCmd": "print(var_dic_list())"
    },
    "r": {
     "delete_cmd_postfix": ") ",
     "delete_cmd_prefix": "rm(",
     "library": "var_list.r",
     "varRefreshCmd": "cat(var_dic_list()) "
    }
   },
   "types_to_exclude": [
    "module",
    "function",
    "builtin_function_or_method",
    "instance",
    "_Feature"
   ],
   "window_display": false
  }
 },
 "nbformat": 4,
 "nbformat_minor": 5
}
